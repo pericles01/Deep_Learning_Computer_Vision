{
 "cells": [
  {
   "cell_type": "code",
   "execution_count": null,
   "metadata": {},
   "outputs": [],
   "source": [
    "# Python program to save a \n",
    "# video using OpenCV\n",
    "import cv2\n",
    "\n",
    "# Create an object to read \n",
    "# from camera\n",
    "cap= cv2.VideoCapture(0)\n",
    "\n",
    "# We need to set resolutions.\n",
    "# so, convert them from float to integer.\n",
    "\n",
    "width= int(cap.get(cv2.CAP_PROP_FRAME_WIDTH))\n",
    "height= int(cap.get(cv2.CAP_PROP_FRAME_HEIGHT))\n",
    "size = (width, height)\n",
    "\n",
    "# Below VideoWriter object will create\n",
    "# a frame of above defined The output \n",
    "# is stored in 'filename.avi' file.\n",
    "writer = cv2.VideoWriter('video.avi', cv2.VideoWriter_fourcc(*'MJPG'),20, size)\n",
    "\n",
    "while True:\n",
    "    _,frame= cap.read()\n",
    "    #gray = cv2.cvtColor(frame, cv2.COLOR_BGR2RGB)\n",
    "    # Write the frame into the\n",
    "    # file 'filename.avi'\n",
    "    writer.write(frame)\n",
    "    \n",
    "    # Press q on keyboard \n",
    "    # to stop the process\n",
    "    cv2.imshow('frame', frame)\n",
    "    \n",
    "    if cv2.waitKey(1) & 0xFF == ord('q'):\n",
    "        break\n",
    "\n",
    "# When everything done, release \n",
    "# the video capture and video \n",
    "# write objects\n",
    "cap.release()\n",
    "writer.release()\n",
    "\n",
    "# Closes all the frames\n",
    "cv2.destroyAllWindows()\n",
    "\n",
    "print(\"The video was successfully saved\")"
   ]
  },
  {
   "cell_type": "code",
   "execution_count": 6,
   "metadata": {},
   "outputs": [
    {
     "data": {
      "text/plain": [
       "'C:\\\\Users\\\\junio\\\\Desktop\\\\OpenCV-master-v6_00\\\\01-Grundlagen-NumPy-und-Bilder'"
      ]
     },
     "execution_count": 6,
     "metadata": {},
     "output_type": "execute_result"
    }
   ],
   "source": []
  },
  {
   "cell_type": "code",
   "execution_count": null,
   "metadata": {},
   "outputs": [],
   "source": []
  }
 ],
 "metadata": {
  "kernelspec": {
   "display_name": "Python 3",
   "language": "python",
   "name": "python3"
  },
  "language_info": {
   "codemirror_mode": {
    "name": "ipython",
    "version": 3
   },
   "file_extension": ".py",
   "mimetype": "text/x-python",
   "name": "python",
   "nbconvert_exporter": "python",
   "pygments_lexer": "ipython3",
   "version": "3.8.5"
  }
 },
 "nbformat": 4,
 "nbformat_minor": 4
}
