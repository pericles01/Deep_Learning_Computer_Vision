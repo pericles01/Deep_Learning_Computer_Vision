{
 "cells": [
  {
   "cell_type": "code",
   "execution_count": 1,
   "metadata": {},
   "outputs": [],
   "source": [
    "import cv2"
   ]
  },
  {
   "cell_type": "code",
   "execution_count": null,
   "metadata": {},
   "outputs": [],
   "source": [
    "#function\n",
    "def draw_rectangle(event, x, y, flags, param):\n",
    "    #set global variables\n",
    "    global pt1, pt2, topLeft_clicked, botRight_clicked\n",
    "    #when the left mouse button is clicked\n",
    "    if event== cv2.EVENT_LBUTTONDOWN:\n",
    "        #reset\n",
    "        if topLeft_clicked == True and botRight_clicked == True:\n",
    "            #links oben            \n",
    "            pt1 = (0,0)\n",
    "            #rechts unten\n",
    "            pt2 = (0,0)\n",
    "            \n",
    "            topLeft_clicked = False\n",
    "            botRight_clicked = False\n",
    "            \n",
    "        if topLeft_clicked == False:\n",
    "            #gets the coordonates\n",
    "            pt1 = (x,y)\n",
    "            topLeft_clicked = True\n",
    "        \n",
    "        elif botRight_clicked == False:\n",
    "            pt2 =(x,y)\n",
    "            botRight_clicked= True\n",
    "        \n",
    "\n",
    "#links oben            \n",
    "pt1 = (0,0)\n",
    "#rechts unten\n",
    "pt2 = (0,0)\n",
    "\n",
    "topLeft_clicked = False\n",
    "botRight_clicked = False\n",
    "\n",
    "#Video aufzeichnen\n",
    "cap = cv2.VideoCapture(0)\n",
    "\n",
    "cv2.namedWindow('Test')\n",
    "cv2.setMouseCallback('Test', draw_rectangle)\n",
    "\n",
    "while True:\n",
    "    #erfasse frame\n",
    "    ret, frame = cap.read()\n",
    "    \n",
    "    if topLeft_clicked:\n",
    "        cv2.circle(frame, center=pt1, radius=5, color=(0,0,255), thickness=-1)\n",
    "        \n",
    "    if botRight_clicked and topLeft_clicked:\n",
    "        cv2.rectangle(frame, pt1, pt2, (0,0,255), 3)\n",
    "        \n",
    "    cv2.imshow('Test', frame)\n",
    "    \n",
    "    if cv2.waitKey(1) & 0xFF == ord('q'):\n",
    "        break\n",
    "\n",
    "cap.release()\n",
    "cap.destroyAllWindows()\n"
   ]
  },
  {
   "cell_type": "code",
   "execution_count": null,
   "metadata": {},
   "outputs": [],
   "source": []
  }
 ],
 "metadata": {
  "kernelspec": {
   "display_name": "Python 3",
   "language": "python",
   "name": "python3"
  },
  "language_info": {
   "codemirror_mode": {
    "name": "ipython",
    "version": 3
   },
   "file_extension": ".py",
   "mimetype": "text/x-python",
   "name": "python",
   "nbconvert_exporter": "python",
   "pygments_lexer": "ipython3",
   "version": "3.8.5"
  }
 },
 "nbformat": 4,
 "nbformat_minor": 4
}
