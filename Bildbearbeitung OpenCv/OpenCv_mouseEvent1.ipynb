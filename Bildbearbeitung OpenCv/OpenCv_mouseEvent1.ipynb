{
 "cells": [
  {
   "cell_type": "code",
   "execution_count": 5,
   "metadata": {},
   "outputs": [],
   "source": [
    "import numpy as np\n",
    "import matplotlib.pyplot as plt \n",
    "%matplotlib inline\n",
    "import cv2\n",
    "##Funktion\n",
    "def draw_circle(event, x,y, flags, param):\n",
    "    if event == cv2.EVENT_LBUTTONDOWN:\n",
    "        cv2.circle(img, (x,y), 50, (102, 205, 170), -1)\n",
    "    elif event == cv2.EVENT_RBUTTONDOWN:\n",
    "        cv2.rectangle(img, pt1= (x-50,y-50), pt2= (x+50,y+50), color=(139, 69, 19), thickness= -1, lineType= cv2.LINE_AA)\n",
    "        \n",
    "cv2.namedWindow(winname='Drawing')\n",
    "\n",
    "cv2.setMouseCallback('Drawing', draw_circle)\n",
    "##Bild anzeigen\n",
    "img = np.zeros((512,512,3), dtype=np.uint8)\n",
    "while True:\n",
    "    cv2.imshow('Drawing', img)\n",
    "    if cv2.waitKey(20) & 0xFF ==27:\n",
    "        break\n",
    "cv2.destroyAllWindows()"
   ]
  },
  {
   "cell_type": "code",
   "execution_count": null,
   "metadata": {},
   "outputs": [],
   "source": []
  },
  {
   "cell_type": "code",
   "execution_count": null,
   "metadata": {},
   "outputs": [],
   "source": []
  }
 ],
 "metadata": {
  "kernelspec": {
   "display_name": "Python 3",
   "language": "python",
   "name": "python3"
  },
  "language_info": {
   "codemirror_mode": {
    "name": "ipython",
    "version": 3
   },
   "file_extension": ".py",
   "mimetype": "text/x-python",
   "name": "python",
   "nbconvert_exporter": "python",
   "pygments_lexer": "ipython3",
   "version": "3.8.5"
  }
 },
 "nbformat": 4,
 "nbformat_minor": 4
}
