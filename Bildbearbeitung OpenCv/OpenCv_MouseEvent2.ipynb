{
 "cells": [
  {
   "cell_type": "code",
   "execution_count": 1,
   "metadata": {},
   "outputs": [],
   "source": [
    "import numpy as np\n",
    "import cv2"
   ]
  },
  {
   "cell_type": "code",
   "execution_count": 10,
   "metadata": {},
   "outputs": [],
   "source": [
    "##Variables\n",
    "drawing = False #wenn Mouse L Button Down\n",
    "ix,iy= -1,-1\n",
    "##Funktionen\n",
    "def draw_rectangle(event, x,y, flags, params):\n",
    "    global ix, iy, drawing\n",
    "    if event == cv2.EVENT_LBUTTONDOWN:\n",
    "        drawing = True\n",
    "        \n",
    "        ix, iy = x, y\n",
    "    elif event == cv2.EVENT_MOUSEMOVE:\n",
    "        if drawing == True:\n",
    "            cv2.rectangle(img, (ix,iy), (x,y), (255, 0, 0), thickness = -1)\n",
    "    \n",
    "    elif event == cv2.EVENT_LBUTTONUP:\n",
    "        drawing = False\n",
    "        #cv2.rectangle(img, (ix,iy), (x,y), (0,0,255), -1)\n",
    "\n",
    "def draw_line(event, x,y, flags, params):\n",
    "    \n",
    "    global drawing\n",
    "\n",
    "    if event == cv2.EVENT_RBUTTONDOWN:\n",
    "        drawing = True\n",
    "        \n",
    "        ix, iy = x, y\n",
    "    elif event == cv2.EVENT_MOUSEMOVE:\n",
    "        if drawing == True:\n",
    "            cv2.line(img, (x,y), (x,y), (205, 92, 92), thickness = 10)\n",
    "    \n",
    "    elif event == cv2.EVENT_RBUTTONUP:\n",
    "        drawing = False\n",
    "##Bild anzeigen\n",
    "img = np.zeros((512,512,3), np.uint8)\n",
    "cv2.namedWindow('Draw', cv2.WINDOW_AUTOSIZE)\n",
    "cv2.setMouseCallback('Draw', draw_rectangle)\n",
    "cv2.setMouseCallback('Draw', draw_line)\n",
    "\n",
    "while True:\n",
    "    cv2.imshow('Draw', img)\n",
    "    if cv2.waitKey(20) & 0xFF ==27:\n",
    "        break\n",
    "        \n",
    "cv2.destroyAllWindows()\n",
    "    \n"
   ]
  },
  {
   "cell_type": "code",
   "execution_count": null,
   "metadata": {},
   "outputs": [],
   "source": []
  }
 ],
 "metadata": {
  "kernelspec": {
   "display_name": "Python 3",
   "language": "python",
   "name": "python3"
  },
  "language_info": {
   "codemirror_mode": {
    "name": "ipython",
    "version": 3
   },
   "file_extension": ".py",
   "mimetype": "text/x-python",
   "name": "python",
   "nbconvert_exporter": "python",
   "pygments_lexer": "ipython3",
   "version": "3.8.5"
  }
 },
 "nbformat": 4,
 "nbformat_minor": 4
}
